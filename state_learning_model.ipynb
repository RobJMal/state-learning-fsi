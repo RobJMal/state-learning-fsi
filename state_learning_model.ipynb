{
 "cells": [
  {
   "cell_type": "code",
   "execution_count": 1,
   "metadata": {},
   "outputs": [],
   "source": [
    "import pandas as pd\n",
    "import numpy as np\n",
    "from tqdm import tqdm\n",
    "import torch\n",
    "import os\n",
    "import matplotlib.pyplot as plt\n",
    "from sklearn.model_selection import train_test_split\n",
    "\n",
    "from model import Pixel2StateNet"
   ]
  },
  {
   "cell_type": "code",
   "execution_count": 2,
   "metadata": {},
   "outputs": [
    {
     "name": "stdout",
     "output_type": "stream",
     "text": [
      "Device:  cuda:0\n"
     ]
    }
   ],
   "source": [
    "DEVICE = torch.device(\"cuda:0\" if torch.cuda.is_available() else \"cpu\")\n",
    "print(\"Device: \", DEVICE)\n",
    "BATCH_SIZE = 32  \n",
    "NUM_EPOCHS = 20"
   ]
  },
  {
   "cell_type": "code",
   "execution_count": 3,
   "metadata": {},
   "outputs": [],
   "source": [
    "def set_seed(seed) -> None:\n",
    "    '''\n",
    "    Sets the seed for the environment for reproducibility.\n",
    "    '''\n",
    "    torch.manual_seed(seed)\n",
    "    np.random.seed(seed)\n",
    "    torch.backends.cudnn.deterministic = True\n",
    "    torch.backends.cudnn.benchmark = False"
   ]
  },
  {
   "cell_type": "code",
   "execution_count": 4,
   "metadata": {},
   "outputs": [],
   "source": [
    "def concatenate_state_space(state_space):\n",
    "    '''\n",
    "    Converts the OrderedDict to a single vector for the state\n",
    "    space. This is for ease of processing when fed into the model. \n",
    "\n",
    "    Original dict =  \n",
    "    data = OrderedDict([\n",
    "        ('joint_angles', array([7 entries]),\n",
    "        ('upright', 1 entry),\n",
    "        ('target', array([3 entries])),\n",
    "        ('velocity', array([13 entries]))\n",
    "    ])\n",
    "    '''\n",
    "    arrays_list = []\n",
    "    for key, value in state_space.items():\n",
    "        if isinstance(value, np.ndarray):\n",
    "            arrays_list.append(value)\n",
    "        else:\n",
    "            arrays_list.append(np.array([value]))\n",
    "\n",
    "    vector = np.concatenate(arrays_list)\n",
    "    return vector"
   ]
  },
  {
   "cell_type": "code",
   "execution_count": 5,
   "metadata": {},
   "outputs": [
    {
     "name": "stdout",
     "output_type": "stream",
     "text": [
      "Loading dataset\n",
      "Converting to pandas dataframe\n",
      "Converting state_space column of dataframe\n",
      "                                               image  \\\n",
      "0  [[[25, 52, 77], [25, 52, 77], [25, 52, 77], [2...   \n",
      "1  [[[25, 52, 77], [25, 52, 77], [25, 52, 77], [2...   \n",
      "2  [[[25, 52, 77], [25, 52, 77], [25, 52, 77], [2...   \n",
      "3  [[[25, 52, 77], [25, 52, 77], [25, 52, 77], [2...   \n",
      "4  [[[25, 52, 77], [25, 52, 77], [25, 52, 77], [2...   \n",
      "\n",
      "                                         state_space  \n",
      "0  [-0.2574390085273436, 0.0009264072188474451, 0...  \n",
      "1  [-0.027611403723891537, 0.0414119146556137, -0...  \n",
      "2  [-0.1885185001670155, 0.08072699084908999, 0.1...  \n",
      "3  [-0.21707487284132598, 0.05409772032614757, 0....  \n",
      "4  [-0.42672974533903885, 0.05006412443187066, 0....  \n"
     ]
    }
   ],
   "source": [
    "set_seed(seed=42)\n",
    "\n",
    "# Loading data\n",
    "dataset_path_and_file = \"dataset/augmented_camera_view/proprio_pixel_dataset-100k_2024-06-02_17-44-33.npz\" \n",
    "\n",
    "print(\"Loading dataset\")\n",
    "dataset = np.load(dataset_path_and_file, allow_pickle=True)\n",
    "dataset_images = dataset['frames']\n",
    "dataset_proprios = dataset['observations']\n",
    "\n",
    "# Converting to pandas dataframe \n",
    "print(\"Converting to pandas dataframe\")\n",
    "data = {\n",
    "    'image': list(dataset_images),\n",
    "    'state_space': list(dataset_proprios)\n",
    "}\n",
    "dataset_df = pd.DataFrame(data)\n",
    "\n",
    "print(\"Converting state_space column of dataframe\")\n",
    "dataset_df['state_space'] = dataset_df['state_space'].apply(lambda x: concatenate_state_space(x))\n",
    "\n",
    "print(dataset_df.head(5))"
   ]
  },
  {
   "cell_type": "code",
   "execution_count": null,
   "metadata": {},
   "outputs": [],
   "source": []
  },
  {
   "cell_type": "code",
   "execution_count": null,
   "metadata": {},
   "outputs": [],
   "source": []
  }
 ],
 "metadata": {
  "kernelspec": {
   "display_name": "fsi_py39_venv",
   "language": "python",
   "name": "python3"
  },
  "language_info": {
   "codemirror_mode": {
    "name": "ipython",
    "version": 3
   },
   "file_extension": ".py",
   "mimetype": "text/x-python",
   "name": "python",
   "nbconvert_exporter": "python",
   "pygments_lexer": "ipython3",
   "version": "3.9.19"
  }
 },
 "nbformat": 4,
 "nbformat_minor": 2
}
